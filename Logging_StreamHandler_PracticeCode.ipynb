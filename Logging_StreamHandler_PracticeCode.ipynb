{
 "cells": [
  {
   "cell_type": "code",
   "execution_count": null,
   "id": "b27af9a0",
   "metadata": {},
   "outputs": [],
   "source": [
    "\n",
    "# Creating logs that are coming from different user using StreamHandler through logging module, \n",
    "\n",
    "import logging\n",
    "\n",
    "\n",
    "logging.basicConfig(filename = \"app3.log\", level = logging.DEBUG, format  = '%(asctime)s %(name)s %(levelname)s %(message)s')\n",
    "\n",
    "#Handlers\n",
    "console_log = logging.StreamHandler()\n",
    "console_log.setLevel(logging.DEBUG)\n",
    "format  = logging.Formatter('%(name)s - %(asctime)s - %(levelname)s - %(message)s')\n",
    "console_log.setFormatter(format)\n",
    "\n",
    "#Create a Customer logger\n",
    "logging.getLogger('').addHandler(console_log)\n",
    "logging.info('this is my first test code for test')\n",
    "logger1 = logging.getLogger('logger1.area1')\n",
    "logger2 = logging.getLogger('logger2.area2')\n",
    "logger3 = logging.getLogger('logger3.area3')\n",
    "logger4 = logging.getLogger('logger4.area4')\n",
    "logger2.debug('this inflogging.getLogger')\n",
    "logger1.info('this inof io is for logger2')\n",
    "logger2.info('this info is for logger two')\n",
    "logger4.info(\"this is logger 4 info\")\n"
   ]
  }
 ],
 "metadata": {
  "kernelspec": {
   "display_name": "Python 3 (ipykernel)",
   "language": "python",
   "name": "python3"
  },
  "language_info": {
   "codemirror_mode": {
    "name": "ipython",
    "version": 3
   },
   "file_extension": ".py",
   "mimetype": "text/x-python",
   "name": "python",
   "nbconvert_exporter": "python",
   "pygments_lexer": "ipython3",
   "version": "3.9.7"
  }
 },
 "nbformat": 4,
 "nbformat_minor": 5
}
