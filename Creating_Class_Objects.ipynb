{
 "cells": [
  {
   "cell_type": "markdown",
   "id": "38d13062",
   "metadata": {},
   "source": [
    "OOPs Concepts, Creating first Class "
   ]
  },
  {
   "cell_type": "code",
   "execution_count": 1,
   "id": "e497f9e1",
   "metadata": {},
   "outputs": [],
   "source": [
    "class data:\n",
    "    def __init__(self,file_name,file_type,date,size):\n",
    "        self.file_name = file_name\n",
    "        self.file_type = file_type\n",
    "        self.date = date\n",
    "        self.size = size\n",
    "    \n",
    "    def file_open(self):\n",
    "        import time\n",
    "        try:\n",
    "            print(\"File is open now in writing mode\")\n",
    "            if type(self.file_name)==list:\n",
    "                for i in self.file_name:\n",
    "                    f=  open({str(i)} + '.' + self.file_type,'w+')\n",
    "                    time.sleep(3)\n",
    "                    f.close()\n",
    "                    print(\"File closed,'You can do another operations now.'\")\n",
    "\n",
    "            elif type(self.file_name)==dict:\n",
    "                for i in self.file_name.values():\n",
    "                    f = open(str(i)+\".\"+self.file_type,\"w+\")\n",
    "                    time.sleep(3)\n",
    "                    f.close()\n",
    "                    print(\"File closed,'You can do another operations now.'\")\n",
    "\n",
    "            elif type(self.file_name)==tuple:\n",
    "                for i in self.file_name:\n",
    "                    f = open(str(i)+\".\"+self.file_type,\"w+\")\n",
    "                    time.sleep(3)\n",
    "                    f.close()\n",
    "                    print(\"File closed,'You can do another operations now.'\")\n",
    "\n",
    "            else:\n",
    "                f = open(self.file_name+\".\"+self.file_type,\"w+\")\n",
    "                f.write(input(\"Please provide the text in file\"))\n",
    "                time.sleep(3)\n",
    "                f.close()\n",
    "        except Exception as e:\n",
    "            print(\"There is an issue\",e)\n",
    "    def file_read(self):\n",
    "        try:\n",
    "            f = open(self.file_name+\".\"+self.file_type)\n",
    "            data = f.read()\n",
    "            print(data)\n",
    "            f.close()\n",
    "        except Exception as e:\n",
    "            print(\"if file do not exist,'please create the file and also check error message'\",\"\\n\",e)\n",
    "    \n",
    "    def file_append(self):\n",
    "        try:\n",
    "            f = open(self.file_name+\".\"+self.file_type,\"a\")\n",
    "            f.write(input())\n",
    "            f.close()\n",
    "        except Exception as e:\n",
    "            print(\"Please create a file first before appending, there is an error\",e)\n",
    "    \n",
    "    def __str__(self):\n",
    "        return \"This is data class object\"\n",
    "\n"
   ]
  },
  {
   "cell_type": "code",
   "execution_count": null,
   "id": "f771d585",
   "metadata": {},
   "outputs": [],
   "source": []
  }
 ],
 "metadata": {
  "kernelspec": {
   "display_name": "Python 3 (ipykernel)",
   "language": "python",
   "name": "python3"
  },
  "language_info": {
   "codemirror_mode": {
    "name": "ipython",
    "version": 3
   },
   "file_extension": ".py",
   "mimetype": "text/x-python",
   "name": "python",
   "nbconvert_exporter": "python",
   "pygments_lexer": "ipython3",
   "version": "3.9.7"
  }
 },
 "nbformat": 4,
 "nbformat_minor": 5
}
