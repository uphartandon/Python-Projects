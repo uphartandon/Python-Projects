{
 "cells": [
  {
   "cell_type": "code",
   "execution_count": null,
   "id": "cb7ec889",
   "metadata": {},
   "outputs": [],
   "source": [
    "import os\n",
    "import shutil\n",
    "data  = []\n",
    "\n",
    "# if not os.path.isdir('C:\\\\Users\\\\uphar.tandon\\\\Untitled Folder\\\\uphar'):\n",
    "#     c = \"C:\\\\Users\\\\uphar.tandon\\\\Untitled Folder\\\\uphar\"\n",
    "#     mkdir(c)\n",
    "    \n",
    "# new_path = os.mkdir(c+\"\\\\for_testing\")\n",
    "os.mkdir('hari')\n",
    "os.chdir(os.getcwd()+ '/hari')\n",
    "#Creating files in \n",
    "                     \n",
    "for i in range(1,11): \n",
    "    file_name = \"text\"+\".\"+str(i)\n",
    "    f = open(file_name,\"w\")\n",
    "    f.write(\"Russia began an invasion of Ukraine on 24 February 2022, in an escalation of the Russo-Ukrainian War that began in 2014. It is the largest conventional military attack in Europe since World War II.\")\n",
    "    f.close()\n",
    "    f = open(file_name)\n",
    "    f.seek(0)\n",
    "    \n",
    "    for j in f:\n",
    "        data.append(j)\n",
    "#  print(\"This text is from, file name: \",file_name, \"\\n\",j)\n",
    "    f.close()\n",
    "    i = i+1\n",
    "    \n",
    "# Reading data from all files created in directory\n",
    "for i in range(1,11):\n",
    "    file_name = \"text\"+\".\"+str(i)\n",
    "    f = open(file_name)\n",
    "    data_read= f.read()\n",
    "    f.close()\n",
    "    print(data_read)\n",
    "    \n",
    "# creating new file to append data from list\n",
    "f = open(\"latest_uphar.txt\",\"w\")\n",
    "for i in data:\n",
    "    f.write(i)\n",
    "f.close()\n",
    "\n",
    "print(\"\\n\", data)\n",
    "\n"
   ]
  }
 ],
 "metadata": {
  "kernelspec": {
   "display_name": "Python 3 (ipykernel)",
   "language": "python",
   "name": "python3"
  },
  "language_info": {
   "codemirror_mode": {
    "name": "ipython",
    "version": 3
   },
   "file_extension": ".py",
   "mimetype": "text/x-python",
   "name": "python",
   "nbconvert_exporter": "python",
   "pygments_lexer": "ipython3",
   "version": "3.9.7"
  }
 },
 "nbformat": 4,
 "nbformat_minor": 5
}
