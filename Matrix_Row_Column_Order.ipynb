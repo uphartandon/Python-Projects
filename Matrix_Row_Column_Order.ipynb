{
 "cells": [
  {
   "cell_type": "code",
   "execution_count": 5,
   "id": "a7d424f4",
   "metadata": {},
   "outputs": [],
   "source": [
    "def matrix(Row,Column):\n",
    "    \"\"\"This function creates a matrix of given Rows and Columns\"\"\"\n",
    "#     Row  = int(input(\"Please provide Row count\"))\n",
    "#     Column = int(input(\"Please provide Column count\"))\n",
    "    mat = []\n",
    "    for i in range(Row):\n",
    "        lis = []\n",
    "        for j in range(Column):\n",
    "            inp = int(input(f\"Please provide for place [{i}] [{j}]: \"))\n",
    "            lis.append(inp)\n",
    "        mat.append(lis)\n",
    "    return mat"
   ]
  },
  {
   "cell_type": "code",
   "execution_count": 6,
   "id": "fb90db33",
   "metadata": {},
   "outputs": [],
   "source": [
    "def matrix_sum(A,B):\n",
    "    \"\"\"This function creates sum of given two matrix\"\"\"\n",
    "    output =[]\n",
    "    for i in range(len(A)): #Number of rows\n",
    "        lis =[]\n",
    "        for j in range(len(A[0])): #Number of Column\n",
    "            print(f\"A{i}{j} and B{i}{j}\")\n",
    "            lis.append(A[i][j]+B[i][j])\n",
    "        output.append(lis)\n",
    "    return(output)\n",
    "                    "
   ]
  },
  {
   "cell_type": "code",
   "execution_count": 7,
   "id": "eae2c06b",
   "metadata": {},
   "outputs": [
    {
     "name": "stdout",
     "output_type": "stream",
     "text": [
      "Please provide Row count: 2\n",
      "Please provide Column count: 2\n",
      "Please provide for place [0] [0]: 11\n",
      "Please provide for place [0] [1]: 12\n",
      "Please provide for place [1] [0]: 13\n",
      "Please provide for place [1] [1]: 13\n",
      "[[11, 12], [13, 13]]\n"
     ]
    }
   ],
   "source": [
    "Row  = int(input(\"Please provide Row count: \"))\n",
    "Column = int(input(\"Please provide Column count: \"))\n",
    "\n",
    "B = matrix(Row,Column)\n",
    "print(B)"
   ]
  },
  {
   "cell_type": "code",
   "execution_count": 8,
   "id": "0fa7e179",
   "metadata": {},
   "outputs": [
    {
     "name": "stdout",
     "output_type": "stream",
     "text": [
      "Please provide Row count: 2\n",
      "Please provide Column count: 2\n",
      "Please provide for place [0] [0]: 11\n",
      "Please provide for place [0] [1]: 11\n",
      "Please provide for place [1] [0]: 2\n",
      "Please provide for place [1] [1]: 2\n",
      "[[11, 11], [2, 2]]\n"
     ]
    }
   ],
   "source": [
    "Row  = int(input(\"Please provide Row count: \"))\n",
    "Column = int(input(\"Please provide Column count: \"))\n",
    "\n",
    "A = matrix(Row,Column)\n",
    "print(A)"
   ]
  },
  {
   "cell_type": "code",
   "execution_count": 9,
   "id": "b0c562fa",
   "metadata": {},
   "outputs": [
    {
     "name": "stdout",
     "output_type": "stream",
     "text": [
      "[[11, 11], [2, 2]]\n",
      "[[11, 12], [13, 13]]\n"
     ]
    }
   ],
   "source": [
    "print(A)\n",
    "print(B)"
   ]
  },
  {
   "cell_type": "code",
   "execution_count": 10,
   "id": "da79d678",
   "metadata": {},
   "outputs": [
    {
     "name": "stdout",
     "output_type": "stream",
     "text": [
      "A00 and B00\n",
      "A01 and B01\n",
      "A10 and B10\n",
      "A11 and B11\n"
     ]
    },
    {
     "data": {
      "text/plain": [
       "[[22, 23], [15, 15]]"
      ]
     },
     "execution_count": 10,
     "metadata": {},
     "output_type": "execute_result"
    }
   ],
   "source": [
    "matrix_sum(A,B)"
   ]
  },
  {
   "cell_type": "code",
   "execution_count": null,
   "id": "7770b945",
   "metadata": {},
   "outputs": [],
   "source": []
  }
 ],
 "metadata": {
  "kernelspec": {
   "display_name": "Python 3 (ipykernel)",
   "language": "python",
   "name": "python3"
  },
  "language_info": {
   "codemirror_mode": {
    "name": "ipython",
    "version": 3
   },
   "file_extension": ".py",
   "mimetype": "text/x-python",
   "name": "python",
   "nbconvert_exporter": "python",
   "pygments_lexer": "ipython3",
   "version": "3.9.7"
  }
 },
 "nbformat": 4,
 "nbformat_minor": 5
}
