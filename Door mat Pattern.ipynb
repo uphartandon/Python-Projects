{
 "cells": [
  {
   "cell_type": "code",
   "execution_count": 5,
   "id": "cdff8d30",
   "metadata": {},
   "outputs": [
    {
     "name": "stdout",
     "output_type": "stream",
     "text": [
      "Uphar---------------\n"
     ]
    }
   ],
   "source": [
    "#Basic String Operations\n",
    "\n",
    "text = \"Uphar\"\n",
    "width= 20\n",
    "s = text.ljust(width,'-')\n",
    "print(s)"
   ]
  },
  {
   "cell_type": "code",
   "execution_count": 7,
   "id": "4759d28d",
   "metadata": {},
   "outputs": [
    {
     "name": "stdout",
     "output_type": "stream",
     "text": [
      "---------------Uphar\n"
     ]
    }
   ],
   "source": [
    "#Basic String Operations\n",
    "\n",
    "text = \"Uphar\"\n",
    "width= 20\n",
    "s = text.rjust(width,'-')\n",
    "print(s)"
   ]
  },
  {
   "cell_type": "code",
   "execution_count": 8,
   "id": "8733ffa9",
   "metadata": {},
   "outputs": [
    {
     "name": "stdout",
     "output_type": "stream",
     "text": [
      "-------Uphar--------\n"
     ]
    }
   ],
   "source": [
    "#Basic String Operations\n",
    "\n",
    "text = \"Uphar\"\n",
    "width= 20\n",
    "s = text.center(width,'-')\n",
    "print(s)"
   ]
  },
  {
   "cell_type": "code",
   "execution_count": 7,
   "id": "77cae82a",
   "metadata": {},
   "outputs": [
    {
     "name": "stdout",
     "output_type": "stream",
     "text": [
      "Please provide the rows count for Door mat Pattern: 9\n",
      "------------.|.------------\n",
      "---------.|..|..|.---------\n",
      "------.|..|..|..|..|.------\n",
      "---.|..|..|..|..|..|..|.---\n",
      "----------WELCOME----------\n",
      "---.|..|..|..|..|..|..|.---\n",
      "------.|..|..|..|..|.------\n",
      "---------.|..|..|.---------\n",
      "------------.|.------------\n",
      "Code executed successfully\n"
     ]
    }
   ],
   "source": [
    "\"\"\"\n",
    "\n",
    "Mr. Vincent works in a door mat manufacturing company. One day, he designed a new door mat with the following specifications:\n",
    "\n",
    "Mat size must be X. ( is an odd natural number, and  is  times .)\n",
    "The design should have 'WELCOME' written in the center.\n",
    "The design pattern should only use |, . and - characters.\n",
    "\n",
    "\n",
    "Input Format\n",
    "\n",
    "A single line containing the space separated values of  and .\n",
    "\n",
    "Constraints\n",
    "\n",
    "Output Format\n",
    "\n",
    "Output the design pattern.\n",
    "\n",
    "Sample Input\n",
    "\n",
    "9 27\n",
    "Sample Output\n",
    "\n",
    "------------.|.------------\n",
    "---------.|..|..|.---------\n",
    "------.|..|..|..|..|.------\n",
    "---.|..|..|..|..|..|..|.---\n",
    "----------WELCOME----------\n",
    "---.|..|..|..|..|..|..|.---\n",
    "------.|..|..|..|..|.------\n",
    "---------.|..|..|.---------\n",
    "\n",
    "\n",
    "\"\"\"\n",
    "\n",
    "try:\n",
    "    N = int(input(\"Please provide the rows count for Door mat Pattern: \"))\n",
    "    if N%2!=0:\n",
    "        M = 3*N\n",
    "        for i in range(N):\n",
    "            pattern = \".|.\"\n",
    "            if i < (N-1)/2:\n",
    "                print((pattern*(2*i+1)).center(M,\"-\"))\n",
    "            elif i == (N-1)/2:\n",
    "                print(\"WELCOME\".center(M,\"-\"))\n",
    "            else:\n",
    "                print((pattern*(2*(N-i-1)+1)).center(M,\"-\"))\n",
    "    else:\n",
    "        print(\"Please provide the correct input\")\n",
    "except Exception as e:\n",
    "            print(\"There is an error\",e)\n",
    "else:\n",
    "    print(\"Code executed successfully\")\n",
    "\n",
    "\n",
    "    \n",
    "        "
   ]
  },
  {
   "cell_type": "code",
   "execution_count": null,
   "id": "3adb84e6",
   "metadata": {},
   "outputs": [],
   "source": []
  }
 ],
 "metadata": {
  "kernelspec": {
   "display_name": "Python 3 (ipykernel)",
   "language": "python",
   "name": "python3"
  },
  "language_info": {
   "codemirror_mode": {
    "name": "ipython",
    "version": 3
   },
   "file_extension": ".py",
   "mimetype": "text/x-python",
   "name": "python",
   "nbconvert_exporter": "python",
   "pygments_lexer": "ipython3",
   "version": "3.9.7"
  }
 },
 "nbformat": 4,
 "nbformat_minor": 5
}
